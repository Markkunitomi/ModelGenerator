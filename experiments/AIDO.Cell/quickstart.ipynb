{
 "cells": [
  {
   "cell_type": "markdown",
   "id": "443d1237",
   "metadata": {},
   "source": [
    "# AIDO.Cell Quickstart\n",
    "\n",
    "This demo quickly walks through installing AIDO.Cell and embedding new single cell data.\n",
    "\n",
    "__Requirements__:\n",
    "- A100 GPU or equivalent"
   ]
  },
  {
   "cell_type": "markdown",
   "id": "66e4fc7f",
   "metadata": {},
   "source": [
    "### Install ModelGenerator and extra dependencies for tutorials"
   ]
  },
  {
   "cell_type": "code",
   "execution_count": null,
   "id": "0d943dee",
   "metadata": {},
   "outputs": [],
   "source": [
    "!git clone https://github.com/genbio-ai/ModelGenerator.git\n",
    "%cd ModelGenerator\n",
    "!pip install -e .\n",
    "!pip install -r experiments/AIDO.Cell/requirements.txt"
   ]
  },
  {
   "cell_type": "markdown",
   "id": "dd475e66",
   "metadata": {},
   "source": [
    "### Grab some data from GEO and load into anndata"
   ]
  },
  {
   "cell_type": "code",
   "execution_count": null,
   "id": "455ca834",
   "metadata": {},
   "outputs": [],
   "source": [
    "%%bash\n",
    "cd ~/ModelGenerator/experiments/AIDO.Cell\n",
    "mkdir -p data\n",
    "cd data\n",
    "wget -nv -O GSE214695.tar 'http://www.ncbi.nlm.nih.gov/geo/download/?acc=GSE214695&format=file'\n",
    "tar -xvf GSE214695.tar\n",
    "cd .."
   ]
  },
  {
   "cell_type": "code",
   "execution_count": null,
   "id": "c50006a4",
   "metadata": {},
   "outputs": [],
   "source": [
    "import anndata as ad\n",
    "import scanpy as sc\n",
    "\n",
    "adata = sc.read_10x_mtx('data', prefix='GSM6614348_HC-1_')\n",
    "sc.pp.filter_cells(adata, min_genes=500)\n",
    "sc.pp.filter_genes(adata, min_cells=3)\n",
    "# No more normalization needed, AIDO.Cell uses raw counts"
   ]
  },
  {
   "cell_type": "markdown",
   "id": "230956e7",
   "metadata": {},
   "source": [
    "### Preprocess the anndata for AIDO.Cell"
   ]
  },
  {
   "cell_type": "code",
   "execution_count": null,
   "id": "3f354631",
   "metadata": {},
   "outputs": [
    {
     "name": "stdout",
     "output_type": "stream",
     "text": [
      "###########  Aligning data to AIDO.Cell  ###########\n",
      "AIDO.Cell was pretrained on a fixed set of 19264 genes.\n",
      "Aligning your data to the AIDO.Cell gene set...\n",
      "2428 in your data that cannot be used by AIDO.Cell. Removing these.\n",
      "['A1BG-AS1' 'A2M-AS1' 'AAED1' ... 'ZNRD1' 'ZNRF3-AS1' 'ZSCAN16-AS1']\n",
      "5837 genes in the AIDO.Cell pretraining set missing in your data.\n",
      "AIDO.Cell is trained with zero-masking. Setting these to zero for AIDO.Cell to ignore.\n",
      "['A2ML1' 'A3GALT2' 'A4GNT' ... 'ZSWIM5' 'ZYG11A' 'ZZZ3']\n",
      "13427 non-zero genes remaining.\n",
      "Reordering genes to match AIDO.Cell gene ordering\n",
      "Gathering attention mask for nonzero genes\n",
      "####################  Finished  ####################\n"
     ]
    }
   ],
   "source": [
    "import cell_utils\n",
    "aligned_adata, attention_mask = cell_utils.align_adata(adata)"
   ]
  },
  {
   "cell_type": "markdown",
   "id": "2e1e7db7",
   "metadata": {},
   "source": [
    "### Get AIDO.Cell embeddings"
   ]
  },
  {
   "cell_type": "code",
   "execution_count": null,
   "id": "69acfb72",
   "metadata": {},
   "outputs": [
    {
     "name": "stdout",
     "output_type": "stream",
     "text": [
      "FULL EMBEDDING\n",
      "(batch_size, genes, embedding_dim)\n",
      "torch.Size([2, 19264, 128])\n",
      "tensor([[[-2.0430,  0.4229, -1.6641,  ..., -0.9346,  0.3691,  1.6074],\n",
      "         [-0.6450, -1.9004, -2.7969,  ..., -1.5557,  0.9419, -0.5210],\n",
      "         [-1.0693, -1.5303, -0.9526,  ..., -0.6470,  0.6484,  0.8975],\n",
      "         ...,\n",
      "         [ 0.5708, -1.8574, -2.6406,  ..., -0.3594, -0.2087,  0.9453],\n",
      "         [ 0.0121,  0.0419,  0.3096,  ..., -0.4370,  1.3516, -0.4097],\n",
      "         [-1.1113, -1.5303, -1.0635,  ..., -1.0801,  1.4648, -0.9688]],\n",
      "\n",
      "        [[-2.2988,  1.0430, -2.3164,  ..., -0.2478,  0.5171,  0.1464],\n",
      "         [-0.8042, -1.9922, -2.7480,  ..., -1.4678,  0.6299, -0.7510],\n",
      "         [-0.0687, -2.2207, -0.0922,  ..., -1.4395,  0.0156,  0.8447],\n",
      "         ...,\n",
      "         [ 0.0627, -1.3369, -2.4355,  ..., -0.0134,  0.0335,  1.0449],\n",
      "         [ 0.1595,  0.0429,  0.3174,  ..., -0.1583,  1.0918, -0.3188],\n",
      "         [-0.6709, -1.0010, -1.5508,  ..., -1.0186,  0.9917, -0.7573]]],\n",
      "       device='cuda:0', dtype=torch.float16, grad_fn=<SliceBackward0>)\n",
      "-------------------------------------\n",
      "NON-ZERO GENES EMBEDDING\n",
      "(batch_size, genes, embedding_dim)\n",
      "torch.Size([2, 13427, 128])\n",
      "tensor([[[-2.0430,  0.4229, -1.6641,  ..., -0.9346,  0.3691,  1.6074],\n",
      "         [-0.6450, -1.9004, -2.7969,  ..., -1.5557,  0.9419, -0.5210],\n",
      "         [-1.0693, -1.5303, -0.9526,  ..., -0.6470,  0.6484,  0.8975],\n",
      "         ...,\n",
      "         [ 0.0761, -0.1423, -1.4922,  ..., -1.0195,  1.3799,  0.8159],\n",
      "         [ 0.5708, -1.8574, -2.6406,  ..., -0.3594, -0.2087,  0.9453],\n",
      "         [ 0.0121,  0.0419,  0.3096,  ..., -0.4370,  1.3516, -0.4097]],\n",
      "\n",
      "        [[-2.2988,  1.0430, -2.3164,  ..., -0.2478,  0.5171,  0.1464],\n",
      "         [-0.8042, -1.9922, -2.7480,  ..., -1.4678,  0.6299, -0.7510],\n",
      "         [-0.0687, -2.2207, -0.0922,  ..., -1.4395,  0.0156,  0.8447],\n",
      "         ...,\n",
      "         [-0.0815, -0.3008, -1.0361,  ..., -0.9136,  1.6484,  0.5752],\n",
      "         [ 0.0627, -1.3369, -2.4355,  ..., -0.0134,  0.0335,  1.0449],\n",
      "         [ 0.1595,  0.0429,  0.3174,  ..., -0.1583,  1.0918, -0.3188]]],\n",
      "       device='cuda:0', dtype=torch.float16, grad_fn=<IndexBackward0>)\n"
     ]
    }
   ],
   "source": [
    "# Embed\n",
    "import anndata as ad\n",
    "import numpy as np\n",
    "import torch\n",
    "import sys\n",
    "from modelgenerator.tasks import Embed\n",
    "\n",
    "device = 'cuda'\n",
    "batch_size = 2\n",
    "\n",
    "model = Embed.from_config({\n",
    "        \"model.backbone\": \"aido_cell_3m\",\n",
    "        \"model.batch_size\": batch_size\n",
    "    }).eval()\n",
    "model = model.to(device).to(torch.float16)\n",
    "\n",
    "batch_np = aligned_adata[:batch_size].X.toarray()\n",
    "batch_tensor = torch.from_numpy(batch_np).to(torch.float16).to(device)\n",
    "batch_transformed = model.transform({'sequences': batch_tensor})\n",
    "embs = model(batch_transformed)\n",
    "\n",
    "# Full Embeddings\n",
    "print('FULL EMBEDDING')\n",
    "print('(batch_size, genes, embedding_dim)')\n",
    "print(embs.shape)\n",
    "print(embs)\n",
    "print('-------------------------------------')\n",
    "\n",
    "# Non-Zero Genes Embeddings\n",
    "print('NON-ZERO GENES EMBEDDING')\n",
    "embs = embs[:, attention_mask.astype(bool), :]\n",
    "print('(batch_size, genes, embedding_dim)')\n",
    "print(embs.shape)\n",
    "print(embs)"
   ]
  }
 ],
 "metadata": {
  "kernelspec": {
   "display_name": "mgen",
   "language": "python",
   "name": "python3"
  },
  "language_info": {
   "codemirror_mode": {
    "name": "ipython",
    "version": 3
   },
   "file_extension": ".py",
   "mimetype": "text/x-python",
   "name": "python",
   "nbconvert_exporter": "python",
   "pygments_lexer": "ipython3",
   "version": "3.10.16"
  }
 },
 "nbformat": 4,
 "nbformat_minor": 5
}
